{
  "nbformat": 4,
  "nbformat_minor": 0,
  "metadata": {
    "colab": {
      "provenance": [],
      "mount_file_id": "1egcT7c5Te-Ea6I2-LtckXyQWhTiRzA_G",
      "authorship_tag": "ABX9TyMFdL4Wd2Sv4R9U3UzZYtLy",
      "include_colab_link": true
    },
    "kernelspec": {
      "name": "python3",
      "display_name": "Python 3"
    },
    "language_info": {
      "name": "python"
    }
  },
  "cells": [
    {
      "cell_type": "markdown",
      "metadata": {
        "id": "view-in-github",
        "colab_type": "text"
      },
      "source": [
        "<a href=\"https://colab.research.google.com/github/MsMagnifique/Nexforce2/blob/main/task2.ipynb\" target=\"_parent\"><img src=\"https://colab.research.google.com/assets/colab-badge.svg\" alt=\"Open In Colab\"/></a>"
      ]
    },
    {
      "cell_type": "code",
      "execution_count": null,
      "metadata": {
        "id": "toItE8FsIi8W"
      },
      "outputs": [],
      "source": []
    },
    {
      "cell_type": "code",
      "source": [
        "import pandas as pd\n",
        "from statistics import mean, median, mode"
      ],
      "metadata": {
        "id": "xBfsDGucInZB"
      },
      "execution_count": null,
      "outputs": []
    },
    {
      "cell_type": "code",
      "source": [
        "path=\"/content/drive/MyDrive/Dataset/SOCR-HeightWeight.csv\"\n",
        "data=pd.read_csv(path)\n",
        "height=data['Height(Inches)']\n",
        "weight=data['Weight(Pounds)']\n",
        "\n",
        "meanh= statistics.mean(height)\n",
        "meanw = statistics.mean(weight)\n",
        "\n",
        "\n",
        "medianh = statistics.median(height)\n",
        "medianw= statistics.median(weight)\n",
        "modeh=mode(height)\n",
        "modew=mode(weight)\n",
        "\n",
        "print(\"**Height**\")\n",
        "print(\"mean:\",meanh)\n",
        "print(\"median:\",medianh)\n",
        "print(\"mode:\",modeh)\n",
        "\n",
        "print(\"\")\n",
        "print(\"**Weight**\")\n",
        "print(\"mean:\",meanw)\n",
        "print(\"median:\",medianw)\n",
        "print(\"mode:\",modew)\n"
      ],
      "metadata": {
        "colab": {
          "base_uri": "https://localhost:8080/"
        },
        "id": "A9xeH0ELJX9z",
        "outputId": "c751665b-ea8d-47a7-ced5-2446490dbc93"
      },
      "execution_count": null,
      "outputs": [
        {
          "output_type": "stream",
          "name": "stdout",
          "text": [
            "**Height**\n",
            "mean: 67.9931135968\n",
            "median: 67.9957\n",
            "mode: 70.04724\n",
            "\n",
            "**Weight**\n",
            "mean: 127.0794211608\n",
            "median: 127.15775\n",
            "mode: 124.7975\n"
          ]
        }
      ]
    }
  ]
}